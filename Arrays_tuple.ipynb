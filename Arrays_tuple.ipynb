{
 "cells": [
  {
   "cell_type": "code",
   "execution_count": 1,
   "id": "d55d993f-213a-40f2-92d8-37aea460a629",
   "metadata": {},
   "outputs": [],
   "source": [
    "using LinearAlgebra, Statistics, Plots"
   ]
  },
  {
   "cell_type": "code",
   "execution_count": 2,
   "id": "702afbbe-566c-4ddb-aef7-74adf667a2b7",
   "metadata": {},
   "outputs": [
    {
     "data": {
      "text/plain": [
       "1"
      ]
     },
     "execution_count": 2,
     "metadata": {},
     "output_type": "execute_result"
    }
   ],
   "source": [
    "a = [2.0, 4.0, 5.2]\n",
    "ndims(a)"
   ]
  },
  {
   "cell_type": "code",
   "execution_count": 3,
   "id": "7b77dc23-42b4-44f3-bebc-e64a97548d73",
   "metadata": {},
   "outputs": [
    {
     "data": {
      "text/plain": [
       "1×3 Matrix{Float64}:\n",
       " 2.0  4.0  5.2"
      ]
     },
     "execution_count": 3,
     "metadata": {},
     "output_type": "execute_result"
    }
   ],
   "source": [
    "b = [2.0 4.0 5.2]"
   ]
  },
  {
   "cell_type": "code",
   "execution_count": 4,
   "id": "1d1a5f45-35e5-48a9-afae-161afeb31d3e",
   "metadata": {},
   "outputs": [
    {
     "data": {
      "text/plain": [
       "3×3 Matrix{Float64}:\n",
       " 2.2  2.2  2.2\n",
       " 2.2  2.2  2.2\n",
       " 2.2  2.2  2.2"
      ]
     },
     "execution_count": 4,
     "metadata": {},
     "output_type": "execute_result"
    }
   ],
   "source": [
    "fill(2.2, 3,3)"
   ]
  },
  {
   "cell_type": "code",
   "execution_count": 5,
   "id": "4d53730d-181f-417b-ad0b-41f5e5f6379b",
   "metadata": {},
   "outputs": [
    {
     "data": {
      "text/plain": [
       "5.2"
      ]
     },
     "execution_count": 5,
     "metadata": {},
     "output_type": "execute_result"
    }
   ],
   "source": [
    "Y = copy(a)\n",
    "Y[3]"
   ]
  },
  {
   "cell_type": "code",
   "execution_count": 6,
   "id": "53c02e0a-4a8c-422b-9f09-90e9524069c8",
   "metadata": {},
   "outputs": [
    {
     "data": {
      "text/plain": [
       "6-element Vector{Float64}:\n",
       " 0.0\n",
       " 1.31683854e-315\n",
       " 1.316696883e-315\n",
       " 0.0\n",
       " 1.31683854e-315\n",
       " 1.316696883e-315"
      ]
     },
     "execution_count": 6,
     "metadata": {},
     "output_type": "execute_result"
    }
   ],
   "source": [
    "Y = similar(a,6)\n",
    "Y"
   ]
  },
  {
   "cell_type": "code",
   "execution_count": 7,
   "id": "d107c51c-5302-45ca-9429-150b28bf9904",
   "metadata": {},
   "outputs": [
    {
     "data": {
      "text/plain": [
       "3×1 adjoint(::Matrix{Float64}) with eltype Float64:\n",
       " 2.0\n",
       " 4.0\n",
       " 5.2"
      ]
     },
     "execution_count": 7,
     "metadata": {},
     "output_type": "execute_result"
    }
   ],
   "source": [
    "b'"
   ]
  },
  {
   "cell_type": "code",
   "execution_count": 8,
   "id": "f17d0134-0c82-4c71-a9be-ebe7b64035b0",
   "metadata": {},
   "outputs": [
    {
     "data": {
      "text/plain": [
       "2×2 Matrix{Float64}:\n",
       " 0.076655  0.39715\n",
       " 0.248514  1.15037"
      ]
     },
     "execution_count": 8,
     "metadata": {},
     "output_type": "execute_result"
    }
   ],
   "source": [
    "d = randn(2,2)"
   ]
  },
  {
   "cell_type": "code",
   "execution_count": 9,
   "id": "f3365ea4-b90b-45cd-857b-926bad990b4c",
   "metadata": {},
   "outputs": [
    {
     "name": "stdout",
     "output_type": "stream",
     "text": [
      "b = [2.0, 4.0]\n"
     ]
    },
    {
     "data": {
      "text/plain": [
       "2-element Vector{Float64}:\n",
       " 2.0\n",
       " 4.0"
      ]
     },
     "execution_count": 9,
     "metadata": {},
     "output_type": "execute_result"
    }
   ],
   "source": [
    "a = [1 2.; 3 4.]\n",
    "b = a[:, 2]\n",
    "@show b"
   ]
  },
  {
   "cell_type": "code",
   "execution_count": 10,
   "id": "e1562fa4-9b00-4ae8-b3e2-a3f3824ab40f",
   "metadata": {},
   "outputs": [
    {
     "data": {
      "text/plain": [
       "2×2 Diagonal{Float64, Vector{Float64}}:\n",
       " 2.0   ⋅ \n",
       "  ⋅   4.0"
      ]
     },
     "execution_count": 10,
     "metadata": {},
     "output_type": "execute_result"
    }
   ],
   "source": [
    "A = Diagonal(b)"
   ]
  },
  {
   "cell_type": "code",
   "execution_count": 11,
   "id": "219b342b-77b6-478d-b8ce-a7d8f1697f99",
   "metadata": {},
   "outputs": [
    {
     "name": "stdout",
     "output_type": "stream",
     "text": [
      "2A = [4.0 0.0; 0.0 8.0]\n"
     ]
    },
    {
     "data": {
      "text/plain": [
       "2×2 Diagonal{Float64, Vector{Float64}}:\n",
       " 4.0   ⋅ \n",
       "  ⋅   8.0"
      ]
     },
     "execution_count": 11,
     "metadata": {},
     "output_type": "execute_result"
    }
   ],
   "source": [
    "@show 2A"
   ]
  },
  {
   "cell_type": "code",
   "execution_count": 12,
   "id": "55dadccd-fbce-4100-ad84-dd33d6af5d4c",
   "metadata": {},
   "outputs": [
    {
     "data": {
      "text/plain": [
       "2×2 Diagonal{Float64, Vector{Float64}}:\n",
       " 3.0   ⋅ \n",
       "  ⋅   7.0"
      ]
     },
     "execution_count": 12,
     "metadata": {},
     "output_type": "execute_result"
    }
   ],
   "source": [
    "2A - I"
   ]
  },
  {
   "cell_type": "markdown",
   "id": "760a318b-face-45dd-888f-fea017acffa3",
   "metadata": {},
   "source": [
    "### Exercise 1"
   ]
  },
  {
   "cell_type": "code",
   "execution_count": null,
   "id": "08d02d60-7129-4933-a24c-2af7333404b9",
   "metadata": {},
   "outputs": [],
   "source": []
  }
 ],
 "metadata": {
  "kernelspec": {
   "display_name": "Julia 1.8.2",
   "language": "julia",
   "name": "julia-1.8"
  },
  "language_info": {
   "file_extension": ".jl",
   "mimetype": "application/julia",
   "name": "julia",
   "version": "1.8.2"
  }
 },
 "nbformat": 4,
 "nbformat_minor": 5
}
