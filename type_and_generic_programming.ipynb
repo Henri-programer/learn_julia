{
 "cells": [
  {
   "cell_type": "code",
   "execution_count": 2,
   "id": "4cb4e64f-669b-4b46-a554-91aaeb26a88f",
   "metadata": {},
   "outputs": [],
   "source": [
    "using LinearAlgebra, Statistics"
   ]
  },
  {
   "cell_type": "code",
   "execution_count": 3,
   "id": "252c347c-d4fc-4ec8-92f3-eca01ab7c3e8",
   "metadata": {},
   "outputs": [
    {
     "name": "stdout",
     "output_type": "stream",
     "text": [
      "typeof(6.4) = Float64\n"
     ]
    },
    {
     "data": {
      "text/plain": [
       "Float64"
      ]
     },
     "execution_count": 3,
     "metadata": {},
     "output_type": "execute_result"
    }
   ],
   "source": [
    "@show typeof(6.4)"
   ]
  },
  {
   "cell_type": "code",
   "execution_count": 4,
   "id": "6f919bcb-1943-4365-abb8-724b9b0cbbcf",
   "metadata": {},
   "outputs": [
    {
     "data": {
      "text/plain": [
       "3-element Vector{Int64}:\n",
       " 10\n",
       " 20\n",
       " 30"
      ]
     },
     "execution_count": 4,
     "metadata": {},
     "output_type": "execute_result"
    }
   ],
   "source": [
    "a = [10, 20, 30]"
   ]
  },
  {
   "cell_type": "code",
   "execution_count": 5,
   "id": "5ad9bc60-9c91-45c0-9ad0-f6d6369c7fbe",
   "metadata": {},
   "outputs": [
    {
     "data": {
      "text/plain": [
       "3-element Vector{Float64}:\n",
       " 1.0\n",
       " 2.4\n",
       " 3.0"
      ]
     },
     "execution_count": 5,
     "metadata": {},
     "output_type": "execute_result"
    }
   ],
   "source": [
    "a = [1.0, 2.4, 3.0]"
   ]
  },
  {
   "cell_type": "code",
   "execution_count": 6,
   "id": "2a625574-ba75-4906-a635-005b10b156a6",
   "metadata": {},
   "outputs": [
    {
     "data": {
      "text/plain": [
       "Vector{Float64}\u001b[90m (alias for \u001b[39m\u001b[90mArray{Float64, 1}\u001b[39m\u001b[90m)\u001b[39m"
      ]
     },
     "execution_count": 6,
     "metadata": {},
     "output_type": "execute_result"
    }
   ],
   "source": [
    "typeof(randn(100))"
   ]
  },
  {
   "cell_type": "code",
   "execution_count": 7,
   "id": "6e243a0a-afbb-42d6-97e5-b18ace0d7b31",
   "metadata": {},
   "outputs": [
    {
     "data": {
      "text/plain": [
       "1"
      ]
     },
     "execution_count": 7,
     "metadata": {},
     "output_type": "execute_result"
    }
   ],
   "source": [
    "ndims(a)"
   ]
  },
  {
   "cell_type": "code",
   "execution_count": 8,
   "id": "8cc57601-6e1d-4655-8ebc-6918632f8700",
   "metadata": {},
   "outputs": [
    {
     "data": {
      "text/plain": [
       "1×3 Matrix{Int64}:\n",
       " 1  3  2"
      ]
     },
     "execution_count": 8,
     "metadata": {},
     "output_type": "execute_result"
    }
   ],
   "source": [
    "[1 3 2]"
   ]
  },
  {
   "cell_type": "code",
   "execution_count": 9,
   "id": "61542613-becb-4a03-aead-f530496a8488",
   "metadata": {},
   "outputs": [
    {
     "data": {
      "text/plain": [
       "3×5 Matrix{Float64}:\n",
       " 4.6  4.6  4.6  4.6  4.6\n",
       " 4.6  4.6  4.6  4.6  4.6\n",
       " 4.6  4.6  4.6  4.6  4.6"
      ]
     },
     "execution_count": 9,
     "metadata": {},
     "output_type": "execute_result"
    }
   ],
   "source": [
    "fill(4.6, 3, 5)"
   ]
  },
  {
   "cell_type": "code",
   "execution_count": 10,
   "id": "2f6e13b9-479c-4bc0-8039-3d8374f0d0ab",
   "metadata": {},
   "outputs": [
    {
     "data": {
      "text/plain": [
       "3-element Vector{Int64}:\n",
       " 2\n",
       " 2\n",
       " 3"
      ]
     },
     "execution_count": 10,
     "metadata": {},
     "output_type": "execute_result"
    }
   ],
   "source": [
    "x = [1, 2, 3]\n",
    "y = x\n",
    "y[1] = 2\n",
    "x"
   ]
  },
  {
   "cell_type": "code",
   "execution_count": 11,
   "id": "9dd34992-90f1-4ea0-bef3-be5fdcb2c0f3",
   "metadata": {},
   "outputs": [
    {
     "data": {
      "text/plain": [
       "3-element Vector{Int64}:\n",
       " 1\n",
       " 2\n",
       " 3"
      ]
     },
     "execution_count": 11,
     "metadata": {},
     "output_type": "execute_result"
    }
   ],
   "source": [
    "x = [1, 2, 3]\n",
    "y = copy(x)\n",
    "y[1] = 2\n",
    "x"
   ]
  },
  {
   "cell_type": "code",
   "execution_count": 12,
   "id": "7b4063ea-5bc2-4a2c-93e7-b9eb75036262",
   "metadata": {},
   "outputs": [
    {
     "data": {
      "text/plain": [
       "3-element Vector{Int64}:\n",
       " 0\n",
       " 0\n",
       " 0"
      ]
     },
     "execution_count": 12,
     "metadata": {},
     "output_type": "execute_result"
    }
   ],
   "source": [
    "# rather than making a copy of x, just crate a similarly sized array\n",
    "x = [1, 2, 3]\n",
    "y = similar(x)\n",
    "y\n"
   ]
  },
  {
   "cell_type": "code",
   "execution_count": 13,
   "id": "10d3d06b-3937-4dd4-a3ac-2dd4b60d3d28",
   "metadata": {},
   "outputs": [
    {
     "data": {
      "text/plain": [
       "2×2 Matrix{Int64}:\n",
       " 201267472  201267536\n",
       " 201267504  201267568"
      ]
     },
     "execution_count": 13,
     "metadata": {},
     "output_type": "execute_result"
    }
   ],
   "source": [
    "x = [1, 2, 3]\n",
    "y = similar(x, 2,2) # here it makes a 2x2 matrix\n",
    "y"
   ]
  },
  {
   "cell_type": "code",
   "execution_count": 14,
   "id": "ee456bf7-6e81-4d90-998f-bea2e0e290f2",
   "metadata": {},
   "outputs": [
    {
     "data": {
      "text/plain": [
       "4×1 adjoint(::Matrix{Int64}) with eltype Int64:\n",
       " 10\n",
       " 20\n",
       " 30\n",
       " 40"
      ]
     },
     "execution_count": 14,
     "metadata": {},
     "output_type": "execute_result"
    }
   ],
   "source": [
    "a = [10 20 30 40]'"
   ]
  },
  {
   "cell_type": "code",
   "execution_count": 15,
   "id": "4ceaa704-86cb-4511-a516-b3f7b95138ad",
   "metadata": {},
   "outputs": [
    {
     "data": {
      "text/plain": [
       "2-element Vector{Int64}:\n",
       " 1\n",
       " 2"
      ]
     },
     "execution_count": 15,
     "metadata": {},
     "output_type": "execute_result"
    }
   ],
   "source": [
    "[1;2;]"
   ]
  },
  {
   "cell_type": "code",
   "execution_count": 16,
   "id": "03157f07-e833-47b1-824e-c65ddab6716b",
   "metadata": {},
   "outputs": [
    {
     "data": {
      "text/plain": [
       "2×1 Matrix{Int64}:\n",
       " 1\n",
       " 2"
      ]
     },
     "execution_count": 16,
     "metadata": {},
     "output_type": "execute_result"
    }
   ],
   "source": [
    "[1;2;;]"
   ]
  },
  {
   "cell_type": "code",
   "execution_count": 17,
   "id": "e38397db-1da8-41b7-adc6-93fc4fab7d1b",
   "metadata": {},
   "outputs": [
    {
     "data": {
      "text/plain": [
       "4-element Vector{Float64}:\n",
       " 0.0\n",
       " 0.0\n",
       " 0.0\n",
       " 0.0"
      ]
     },
     "execution_count": 17,
     "metadata": {},
     "output_type": "execute_result"
    }
   ],
   "source": [
    "a = zeros(4)"
   ]
  },
  {
   "cell_type": "code",
   "execution_count": 18,
   "id": "496daafa-65e3-448c-b07e-e363345be05e",
   "metadata": {},
   "outputs": [
    {
     "name": "stdout",
     "output_type": "stream",
     "text": [
      "a = [0.0, 2.3, 2.3, 2.3]\n"
     ]
    },
    {
     "data": {
      "text/plain": [
       "4-element Vector{Float64}:\n",
       " 0.0\n",
       " 2.3\n",
       " 2.3\n",
       " 2.3"
      ]
     },
     "execution_count": 18,
     "metadata": {},
     "output_type": "execute_result"
    }
   ],
   "source": [
    "a[2:end] .= 2.3\n",
    "@show a"
   ]
  },
  {
   "cell_type": "markdown",
   "id": "55cb12cb-c952-47ec-89b3-d7fa15c6efe3",
   "metadata": {},
   "source": [
    "# Vector and Slices"
   ]
  },
  {
   "cell_type": "code",
   "execution_count": 19,
   "id": "1f7e8e23-6654-498e-b98b-c640ba02dad5",
   "metadata": {},
   "outputs": [
    {
     "name": "stdout",
     "output_type": "stream",
     "text": [
      "b = [2, 4]\n",
      "a = [1 4; 3 5]\n",
      "b = [2, 4]\n"
     ]
    }
   ],
   "source": [
    "a = [1 2; 3 4]\n",
    "b = a[:, 2]\n",
    "@show b\n",
    "a[:, 2] = [4,5] # moditify the second column of a\n",
    "@show a\n",
    "@show b;\n"
   ]
  },
  {
   "cell_type": "code",
   "execution_count": null,
   "id": "9d1d5d5e-c754-42ec-9d6e-313c9837ce01",
   "metadata": {},
   "outputs": [],
   "source": []
  },
  {
   "cell_type": "code",
   "execution_count": 20,
   "id": "801be21f-db66-4800-8f35-9a1179a4dfeb",
   "metadata": {},
   "outputs": [
    {
     "name": "stdout",
     "output_type": "stream",
     "text": [
      "b = [2, 4]\n",
      "a = [1 4; 3 5]\n",
      "b = [4, 5]\n"
     ]
    }
   ],
   "source": [
    "a = [1 2; 3 4]\n",
    "@views b = a[:, 2]\n",
    "@show b\n",
    "a[:, 2] = [4,5] # moditify the second column of a\n",
    "@show a\n",
    "@show b;\n"
   ]
  },
  {
   "cell_type": "markdown",
   "id": "eb444dfa-f234-44c5-93a2-887b633cf293",
   "metadata": {},
   "source": [
    "# Special Matrices"
   ]
  },
  {
   "cell_type": "code",
   "execution_count": 21,
   "id": "766371ad-4c24-4862-a9f8-8c4028c2ebf8",
   "metadata": {},
   "outputs": [
    {
     "data": {
      "text/plain": [
       "2×2 Diagonal{Float64, Vector{Float64}}:\n",
       " 1.0   ⋅ \n",
       "  ⋅   2.0"
      ]
     },
     "execution_count": 21,
     "metadata": {},
     "output_type": "execute_result"
    }
   ],
   "source": [
    "d = [1.0, 2.0]\n",
    "a = Diagonal(d)"
   ]
  },
  {
   "cell_type": "markdown",
   "id": "00f222d8-6fad-4bbe-b7c9-aac7f53074e0",
   "metadata": {},
   "source": [
    "# Assignment and Passing Arrays"
   ]
  },
  {
   "cell_type": "code",
   "execution_count": 22,
   "id": "edb87a24-73d6-4cab-981d-d21a7fd19d17",
   "metadata": {},
   "outputs": [
    {
     "data": {
      "text/plain": [
       "1×3 Matrix{Int64}:\n",
       " 1  2  3"
      ]
     },
     "execution_count": 22,
     "metadata": {},
     "output_type": "execute_result"
    }
   ],
   "source": [
    "x = [1 2 3]\n",
    "y = x "
   ]
  },
  {
   "cell_type": "code",
   "execution_count": 23,
   "id": "1dabd01d-7276-4a38-945b-3417a44fe971",
   "metadata": {},
   "outputs": [
    {
     "name": "stdout",
     "output_type": "stream",
     "text": [
      "(x, y, z) = ([1 2 3], [2 3 4], [2 3 4])\n"
     ]
    },
    {
     "data": {
      "text/plain": [
       "([1 2 3], [2 3 4], [2 3 4])"
      ]
     },
     "execution_count": 23,
     "metadata": {},
     "output_type": "execute_result"
    }
   ],
   "source": [
    "# consequence: one can rebind the name y\n",
    "x = [1 2 3]\n",
    "y = x     #  name `y` binds to whatever `x` bound to\n",
    "z = [2 3 4]\n",
    "y = z     # only change change name name binding, not value!\n",
    "@show (x,y,z)"
   ]
  },
  {
   "cell_type": "code",
   "execution_count": 24,
   "id": "8eb3ec27-2ccf-49af-a425-2e42bea9ab4b",
   "metadata": {},
   "outputs": [
    {
     "name": "stdout",
     "output_type": "stream",
     "text": [
      "(x, y, z) = ([2 3 4], [2 3 4], [2 3 4])\n"
     ]
    },
    {
     "data": {
      "text/plain": [
       "([2 3 4], [2 3 4], [2 3 4])"
      ]
     },
     "execution_count": 24,
     "metadata": {},
     "output_type": "execute_result"
    }
   ],
   "source": [
    "# consequence: one can rebind the name y\n",
    "x = [1 2 3]\n",
    "y = x     #  name `y` binds to whatever `x` bound to\n",
    "z = [2 3 4]\n",
    "y .= z    #  Dispatching the assignment of each element\n",
    "@show (x,y,z)"
   ]
  },
  {
   "cell_type": "markdown",
   "id": "ad4c1955-5ac3-43a7-84c7-35dd5eb9e6c4",
   "metadata": {},
   "source": [
    "### This applies to in-place functions as well"
   ]
  },
  {
   "cell_type": "code",
   "execution_count": 25,
   "id": "ea6459bc-429b-4e54-915b-9a1a1e42cf51",
   "metadata": {},
   "outputs": [
    {
     "data": {
      "text/plain": [
       "2-element Vector{Int64}:\n",
       "  5\n",
       " 11"
      ]
     },
     "execution_count": 25,
     "metadata": {},
     "output_type": "execute_result"
    }
   ],
   "source": [
    "function f(x)\n",
    "    return [1 2; 3 4]*x # matrix x column vector\n",
    "end\n",
    "val = [1, 2]\n",
    "f(val)"
   ]
  },
  {
   "cell_type": "code",
   "execution_count": 26,
   "id": "f022c3c2-9079-4a75-8cc2-7379f5658a32",
   "metadata": {},
   "outputs": [
    {
     "data": {
      "text/plain": [
       "2-element Vector{Int64}:\n",
       "  5\n",
       " 11"
      ]
     },
     "execution_count": 26,
     "metadata": {},
     "output_type": "execute_result"
    }
   ],
   "source": [
    "function f(x)\n",
    "    return [1 2; 3 4]*x # matrix x column vector\n",
    "end\n",
    "\n",
    "val = [1, 2]\n",
    "y = similar(val)\n",
    "\n",
    "function f!(out, x)\n",
    "    out .= [1 2; 3 4]*x\n",
    "end\n",
    "f!(y, val)\n",
    "y"
   ]
  },
  {
   "cell_type": "code",
   "execution_count": 29,
   "id": "3a67a631-a08a-40df-b438-5237f84915c1",
   "metadata": {},
   "outputs": [
    {
     "data": {
      "text/plain": [
       "15.299999999999999"
      ]
     },
     "execution_count": 29,
     "metadata": {},
     "output_type": "execute_result"
    }
   ],
   "source": [
    "function pro(parameters)\n",
    "    (; a, b) = parameters\n",
    "    return a*b\n",
    "end\n",
    "x = (; a=3.4,b= 4.5)\n",
    "pro(x)"
   ]
  },
  {
   "cell_type": "code",
   "execution_count": 36,
   "id": "0bc33011-d95f-49b6-9f40-49647107795d",
   "metadata": {},
   "outputs": [
    {
     "name": "stdout",
     "output_type": "stream",
     "text": [
      "paramgen(β = 3.5) = (α = 0.1, β = 3.5)\n"
     ]
    },
    {
     "data": {
      "text/plain": [
       "(α = 0.1, β = 3.5)"
      ]
     },
     "execution_count": 36,
     "metadata": {},
     "output_type": "execute_result"
    }
   ],
   "source": [
    "# In order to manage default values, use the @with_kw \n",
    "\n",
    "using Parameters\n",
    "\n",
    "paramgen = @with_kw (α = 0.1, β = 0.2) # named tuples with default\n",
    "@show paramgen(β = 3.5)"
   ]
  },
  {
   "cell_type": "markdown",
   "id": "aceb08a7-6251-4e03-b0d0-9c1f793fa63b",
   "metadata": {},
   "source": [
    "### Noting, Missing, and Unions"
   ]
  },
  {
   "cell_type": "code",
   "execution_count": 37,
   "id": "e9c3f13f-e14f-453e-b47c-57a663fb401a",
   "metadata": {},
   "outputs": [
    {
     "data": {
      "text/plain": [
       "Nothing"
      ]
     },
     "execution_count": 37,
     "metadata": {},
     "output_type": "execute_result"
    }
   ],
   "source": [
    "typeof(nothing)"
   ]
  },
  {
   "cell_type": "code",
   "execution_count": 38,
   "id": "400dec8a-b39f-435b-81b7-327a4c4e6d7b",
   "metadata": {},
   "outputs": [
    {
     "name": "stdout",
     "output_type": "stream",
     "text": [
      "f(1.0) = 1.0\n"
     ]
    },
    {
     "ename": "LoadError",
     "evalue": "AssertionError: x > 0.0",
     "output_type": "error",
     "traceback": [
      "AssertionError: x > 0.0",
      "",
      "Stacktrace:",
      " [1] f(x::Float64)",
      "   @ Main .\\In[38]:2",
      " [2] top-level scope",
      "   @ show.jl:1047",
      " [3] eval",
      "   @ .\\boot.jl:368 [inlined]",
      " [4] include_string(mapexpr::typeof(REPL.softscope), mod::Module, code::String, filename::String)",
      "   @ Base .\\loading.jl:1428"
     ]
    }
   ],
   "source": [
    "function f(x)\n",
    "    @assert x > 0.0\n",
    "    sqrt(x)\n",
    "end\n",
    "\n",
    "@show f(1.0)\n",
    "@show f(-2.5)"
   ]
  },
  {
   "cell_type": "code",
   "execution_count": 39,
   "id": "174ae8b1-a933-48ca-8d39-220b09a80799",
   "metadata": {},
   "outputs": [
    {
     "data": {
      "text/plain": [
       "DomainError(-1.2, \"sqrt will only return a complex result if called with a complex argument. Try sqrt(Complex(x)).\")"
      ]
     },
     "execution_count": 39,
     "metadata": {},
     "output_type": "execute_result"
    }
   ],
   "source": [
    "try sqrt(-1.2)\n",
    "catch err\n",
    "    err\n",
    "end"
   ]
  },
  {
   "cell_type": "code",
   "execution_count": null,
   "id": "069c959d-de79-46e7-bca0-17734997f80d",
   "metadata": {},
   "outputs": [],
   "source": []
  },
  {
   "cell_type": "code",
   "execution_count": 10,
   "id": "db3fad79-9a87-4a75-aba5-922613350a4c",
   "metadata": {},
   "outputs": [
    {
     "data": {
      "text/plain": [
       "(3,)"
      ]
     },
     "execution_count": 10,
     "metadata": {},
     "output_type": "execute_result"
    }
   ],
   "source": [
    "size(a)"
   ]
  },
  {
   "cell_type": "code",
   "execution_count": 3,
   "id": "ba5655fd-19c0-43ac-9e7f-4c9927ec8770",
   "metadata": {},
   "outputs": [
    {
     "name": "stdout",
     "output_type": "stream",
     "text": [
      "typeof(x) = Tuple{Int64, String, Float64}\n"
     ]
    },
    {
     "data": {
      "text/plain": [
       "Tuple{Int64, String, Float64}"
      ]
     },
     "execution_count": 3,
     "metadata": {},
     "output_type": "execute_result"
    }
   ],
   "source": [
    "x = (1, \"test\", 2.0)\n",
    "@show typeof(x)"
   ]
  },
  {
   "cell_type": "code",
   "execution_count": 4,
   "id": "81ce0cf2-2baf-43c0-92f7-1e1b78c28f2a",
   "metadata": {},
   "outputs": [
    {
     "name": "stdout",
     "output_type": "stream",
     "text": [
      "Float64 <: Real = true\n",
      "Int64 <: Real = true\n",
      "Complex{Float64} <: Real = false\n",
      "Array <: Real = false\n"
     ]
    }
   ],
   "source": [
    "# type hierachy\n",
    "@show Float64 <: Real\n",
    "@show Int64 <: Real\n",
    "@show Complex{Float64} <: Real\n",
    "@show Array <: Real;"
   ]
  },
  {
   "cell_type": "code",
   "execution_count": 5,
   "id": "936d7dc1-c4ac-429f-8f16-53d07b33392f",
   "metadata": {},
   "outputs": [
    {
     "name": "stdout",
     "output_type": "stream",
     "text": [
      "Int64 <: Signed <: Integer <: Real <: Number <: Any"
     ]
    }
   ],
   "source": [
    "using Base: show_supertypes  # import the function from the `Base` package\n",
    "\n",
    "show_supertypes(Int64)"
   ]
  },
  {
   "cell_type": "code",
   "execution_count": 1,
   "id": "7d484164-d6f4-46d2-a99b-07b74717b86f",
   "metadata": {},
   "outputs": [
    {
     "name": "stdout",
     "output_type": "stream",
     "text": [
      "foo = Foo5(0.1, 2, [1.0, 2.0, 3.0])\n",
      "foo2 = Foo5(2.0, 2, [1.0, 2.0, 3.0])\n"
     ]
    },
    {
     "data": {
      "text/plain": [
       "8.1"
      ]
     },
     "execution_count": 1,
     "metadata": {},
     "output_type": "execute_result"
    }
   ],
   "source": [
    "using Base: @kwdef\n",
    "using Parameters\n",
    "\n",
    "@kwdef struct Foo5\n",
    "    a::Float64 = 2.0     # adds default value\n",
    "    b::Int64\n",
    "    c::Vector{Float64}\n",
    "end\n",
    "\n",
    "foo = Foo5(a = 0.1, b = 2, c = [1.0, 2.0, 3.0])\n",
    "foo2 = Foo5(c = [1.0, 2.0, 3.0], b = 2)  # rearrange order, uses default values\n",
    "\n",
    "@show foo\n",
    "@show foo2\n",
    "\n",
    "function f(x)\n",
    "    @unpack a, b, c = x     # can use `@unpack` on any struct\n",
    "    return a + b + sum(c)\n",
    "end\n",
    "\n",
    "f(foo)"
   ]
  },
  {
   "cell_type": "markdown",
   "id": "f23fbd44-849e-4e64-b263-24735afd3a5a",
   "metadata": {},
   "source": []
  }
 ],
 "metadata": {
  "kernelspec": {
   "display_name": "Julia 1.8.2",
   "language": "julia",
   "name": "julia-1.8"
  },
  "language_info": {
   "file_extension": ".jl",
   "mimetype": "application/julia",
   "name": "julia",
   "version": "1.8.2"
  }
 },
 "nbformat": 4,
 "nbformat_minor": 5
}
