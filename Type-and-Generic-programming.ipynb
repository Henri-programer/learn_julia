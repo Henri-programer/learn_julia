{
 "cells": [
  {
   "cell_type": "markdown",
   "id": "f0596f1a-4011-40a9-bbe2-6d8dbe8b4bae",
   "metadata": {},
   "source": [
    "# Introduction to Type and Generic Programming"
   ]
  },
  {
   "cell_type": "code",
   "execution_count": null,
   "id": "d1879732-d102-487a-a85c-ccc34e15e63e",
   "metadata": {},
   "outputs": [],
   "source": []
  },
  {
   "cell_type": "code",
   "execution_count": null,
   "id": "43f68c98-ba98-482c-ae12-f096498420cf",
   "metadata": {},
   "outputs": [],
   "source": []
  },
  {
   "cell_type": "code",
   "execution_count": 1,
   "id": "3182029c-5d0b-4642-80b7-9a4950f8c747",
   "metadata": {},
   "outputs": [],
   "source": [
    "using LinearAlgebra, Statistics"
   ]
  },
  {
   "cell_type": "code",
   "execution_count": 2,
   "id": "0c96dced-7e07-4871-b6b1-ca411a7e7653",
   "metadata": {},
   "outputs": [
    {
     "name": "stdout",
     "output_type": "stream",
     "text": [
      "Float64 <: Real = true\n",
      "Int64 <: Real = true\n",
      "Complex{Float64} <: Real = false\n",
      "Array <: Real = false\n"
     ]
    }
   ],
   "source": [
    "@show Float64 <: Real\n",
    "@show Int64 <: Real\n",
    "@show Complex{Float64} <: Real\n",
    "@show Array <: Real;"
   ]
  },
  {
   "cell_type": "code",
   "execution_count": null,
   "id": "6aafe38b-d3e0-4d7c-8533-12050b53cf09",
   "metadata": {},
   "outputs": [],
   "source": []
  }
 ],
 "metadata": {
  "kernelspec": {
   "display_name": "Julia 1.8.2",
   "language": "julia",
   "name": "julia-1.8"
  },
  "language_info": {
   "file_extension": ".jl",
   "mimetype": "application/julia",
   "name": "julia",
   "version": "1.8.2"
  }
 },
 "nbformat": 4,
 "nbformat_minor": 5
}
