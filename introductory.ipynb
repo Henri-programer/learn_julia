{
 "cells": [
  {
   "cell_type": "code",
   "execution_count": 2,
   "id": "452ae435-42f2-4fdd-8b8c-e166b348cc62",
   "metadata": {},
   "outputs": [],
   "source": [
    "] instantiate"
   ]
  },
  {
   "cell_type": "code",
   "execution_count": 3,
   "id": "37cbecdc-664b-4e02-b8b3-dfc7293229d6",
   "metadata": {},
   "outputs": [],
   "source": [
    "using LinearAlgebra, Statistics, Plots"
   ]
  },
  {
   "cell_type": "code",
   "execution_count": null,
   "id": "40471316-de17-4ee2-bba8-43f7bdd1b8f9",
   "metadata": {},
   "outputs": [],
   "source": []
  }
 ],
 "metadata": {
  "kernelspec": {
   "display_name": "Julia 1.8.2",
   "language": "julia",
   "name": "julia-1.8"
  },
  "language_info": {
   "file_extension": ".jl",
   "mimetype": "application/julia",
   "name": "julia",
   "version": "1.8.2"
  }
 },
 "nbformat": 4,
 "nbformat_minor": 5
}
