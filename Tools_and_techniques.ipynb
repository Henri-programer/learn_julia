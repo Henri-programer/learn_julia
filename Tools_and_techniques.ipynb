{
 "cells": [
  {
   "cell_type": "code",
   "execution_count": 3,
   "id": "b2f335cf-13c2-4838-9572-a8a4e131ca0f",
   "metadata": {},
   "outputs": [],
   "source": [
    "using LinearAlgebra, Statistics\n",
    "using Distributions, LaTeXStrings, Plots, Random, Symbolics"
   ]
  },
  {
   "cell_type": "code",
   "execution_count": null,
   "id": "93ab69a8-b31b-4a0c-b7ca-b12c3ddae953",
   "metadata": {},
   "outputs": [],
   "source": []
  }
 ],
 "metadata": {
  "kernelspec": {
   "display_name": "Julia 1.8.2",
   "language": "julia",
   "name": "julia-1.8"
  },
  "language_info": {
   "file_extension": ".jl",
   "mimetype": "application/julia",
   "name": "julia",
   "version": "1.8.2"
  }
 },
 "nbformat": 4,
 "nbformat_minor": 5
}
